{
 "cells": [
  {
   "attachments": {},
   "cell_type": "markdown",
   "metadata": {},
   "source": [
    "# Instructions for terminal calls that can be used for the repository\n",
    "\n",
    "In this notebook, we briefly show several terminal calls that can be used for the repository."
   ]
  },
  {
   "cell_type": "code",
   "execution_count": 4,
   "metadata": {},
   "outputs": [
    {
     "name": "stderr",
     "output_type": "stream",
     "text": [
      "/opt/anaconda3/envs/JSE-replicate-code/lib/python3.11/site-packages/tqdm/auto.py:21: TqdmWarning: IProgress not found. Please update jupyter and ipywidgets. See https://ipywidgets.readthedocs.io/en/stable/user_install.html\n",
      "  from .autonotebook import tqdm as notebook_tqdm\n"
     ]
    }
   ],
   "source": [
    "\n",
    "# import the necessary libraries\n",
    "import numpy as np\n",
    "import pandas as pd\n",
    "import torch\n",
    "\n",
    "# import from the JSE package\n",
    "from JSE.data import *\n",
    "from JSE.settings import data_info, optimizer_info\n",
    "from JSE.models import *\n",
    "from JSE.training import *\n",
    "\n",
    "\n",
    "# import in order \n",
    "import argparse\n",
    "import os\n",
    "import sys"
   ]
  },
  {
   "cell_type": "code",
   "execution_count": 15,
   "metadata": {},
   "outputs": [],
   "source": [
    "\n",
    "method = 'JSE' # Select the method - in this case, JSE\n",
    "dataset = 'Toy' # Select the dataset - in this case, Toy - other options include 'Waterbirds', 'celebA' or 'multiNLI'\n",
    "dataset_setting = 'default' # Select the dataset setting - in this case, default\n",
    "demean = 'True' # Select whether to demean the data - in this case, True\n",
    "pca = 'False' # Select whether to use PCA - in this case, False\n",
    "k_components = 20 # If pca, select the number of PCA components \n",
    "alpha = 0.05 # Select the alpha level for the hypothesis test of JSE\n",
    "batch_size = 128 # Select the batch size for training\n",
    "solver = 'SGD' # Select the solver for training - in this case, SGD\n",
    "lr = 0.01 # Select the learning rate for training\n",
    "weight_decay = 0.0 # Select the weight decay for training\n",
    "early_stopping = True # Select whether to use early stopping for training\n",
    "epochs = 50 # Select the (max) number of epochs for training\n",
    "per_step = 5 # Select the number of epochs for printing loss\n",
    "device_type = 'cpu' # Select the device type for training - in this case, cpu\n",
    "save_results = True # Select whether to save the results\n",
    "baseline_adjust = False # Select whether to use the heuristic for Delta, otherwise Delta = 0\n",
    "eval_balanced = True # Select whether to use the balanced average for tests\n",
    "use_standard_settings = True # Select whether to use the standard settings for ERM trained on transformed data\n",
    "sims = 1 # Select the number of simulations\n",
    "spurious_ratio = 0.0 # Select the spurious ratio - for the Toy dataset this is \\rho, for others this is p(y_{mt} = y | y_{sp} = y)\n",
    "run_seed = 0 # Select the run seed\n",
    "concept_first = True # Select whether to use the outer loop or inner loop for the concept\n",
    "remove_concept = True # Select whether to remove the concept from the data or to project onto main-task subspace \n",
    "\n",
    "\n",
    "# convert to strings for terminal call\n",
    "method_str = '--method ' + method\n",
    "dataset_str = '--dataset ' + dataset\n",
    "dataset_setting_str = '--dataset_setting ' + dataset_setting\n",
    "demean_str = '--demean ' + demean\n",
    "pca_str = '--pca ' + pca\n",
    "k_components_str = '--k_components ' + str(k_components)\n",
    "alpha_str = '--alpha ' + str(alpha)\n",
    "batch_size_str = '--batch_size ' + str(batch_size)\n",
    "solver_str = '--solver ' + solver\n",
    "lr_str = '--lr ' + str(lr)\n",
    "weight_decay_str = '--weight_decay ' + str(weight_decay)\n",
    "early_stopping_str = '--early_stopping ' + str(early_stopping)\n",
    "epochs_str = '--epochs ' + str(epochs)\n",
    "null_is_concept_str = '--null_is_concept ' + str(False)\n",
    "per_step_str = '--per_step ' + str(per_step)\n",
    "device_type_str = '--device_type ' + device_type\n",
    "save_results_str = '--save_results ' + str(save_results)\n",
    "baseline_adjust_str = '--baseline_adjust ' + str(baseline_adjust)\n",
    "eval_balanced_str = '--eval_balanced ' + str(eval_balanced)\n",
    "use_standard_settings_str = '--use_standard_settings ' + str(use_standard_settings)\n",
    "sims_str = '--sims ' + str(sims)\n",
    "spurious_ratio_str = '--spurious_ratio ' + str(spurious_ratio)\n",
    "run_seed_str = '--run_seed ' + str(run_seed)\n",
    "concept_first_str = '--concept_first ' + str(concept_first)\n",
    "remove_concept_str = '--remove_concept ' + str(remove_concept)\n",
    "\n",
    "\n",
    "\n",
    "terminal_call = 'generate_result_sim.py '+ method_str + ' ' + dataset_str + ' ' +  dataset_setting_str + ' ' + demean_str + ' ' + pca_str + ' ' + k_components_str + ' ' + alpha_str + ' ' + batch_size_str + ' ' + solver_str + ' ' + lr_str + ' ' + weight_decay_str + ' ' + early_stopping_str + ' ' + epochs_str +  ' ' + null_is_concept_str + ' ' + per_step_str + ' ' + device_type_str + ' ' + save_results_str  + ' ' + baseline_adjust_str + ' '  + eval_balanced_str + ' ' + use_standard_settings_str + ' ' + sims_str + ' ' + spurious_ratio_str + ' ' + run_seed_str + ' ' + concept_first_str + ' ' + remove_concept_str\n"
   ]
  },
  {
   "attachments": {},
   "cell_type": "markdown",
   "metadata": {},
   "source": [
    "From here, first we set the directory to JSE folder"
   ]
  },
  {
   "cell_type": "code",
   "execution_count": 34,
   "metadata": {},
   "outputs": [
    {
     "name": "stdout",
     "output_type": "stream",
     "text": [
      "/Users/florisholstege/Documents/GitHub/JSE-replicate/JSE\n"
     ]
    }
   ],
   "source": [
    "%cd JSE"
   ]
  },
  {
   "attachments": {},
   "cell_type": "markdown",
   "metadata": {},
   "source": [
    "Then we run the terminal call. This requires installing JSE as a local library, otherwise the imports from JSE will not work."
   ]
  },
  {
   "cell_type": "code",
   "execution_count": 36,
   "metadata": {},
   "outputs": [
    {
     "name": "stdout",
     "output_type": "stream",
     "text": [
      "balanced_training_main:  False\n",
      "balanced_training_concept:  False\n",
      "Using standard JSE settings\n",
      "---------------------\n",
      "Now evaluating sim 0/1 at spurious ratio 0.0 for dataset Toy and method JSE\n",
      "---------------------\n"
     ]
    },
    {
     "name": "stderr",
     "output_type": "stream",
     "text": [
      "Traceback (most recent call last):\n",
      "  File \"/Users/florisholstege/Documents/GitHub/JSE-replicate/JSE/generate_result_JSE.py\", line 9, in <module>\n",
      "    from JSE.data import *\n",
      "ModuleNotFoundError: No module named 'JSE'\n"
     ]
    },
    {
     "name": "stdout",
     "output_type": "stream",
     "text": [
      "Time taken for sim:  2.3003811836242676\n"
     ]
    },
    {
     "ename": "FileNotFoundError",
     "evalue": "[Errno 2] No such file or directory: 'results/Toy_JSE_sims_1_run_seed_0_spurious_ratio_0/Toy_JSE_seed_0.pkl'",
     "output_type": "error",
     "traceback": [
      "\u001b[0;31m---------------------------------------------------------------------------\u001b[0m",
      "\u001b[0;31mFileNotFoundError\u001b[0m                         Traceback (most recent call last)",
      "File \u001b[0;32m~/Documents/GitHub/JSE-replicate/JSE/generate_result_sim.py:340\u001b[0m\n\u001b[1;32m    331\u001b[0m use_standard_settings \u001b[39m=\u001b[39m str_to_bool(dict_arguments[\u001b[39m\"\u001b[39m\u001b[39muse_standard_settings\u001b[39m\u001b[39m\"\u001b[39m])\n\u001b[1;32m    333\u001b[0m rank_RLACE \u001b[39m=\u001b[39m dict_arguments[\u001b[39m\"\u001b[39m\u001b[39mrank_RLACE\u001b[39m\u001b[39m\"\u001b[39m]\n\u001b[0;32m--> 340\u001b[0m main(method, sims, dataset, dataset_setting, spurious_ratio, demean, pca, k_components, alpha,  batch_size, solver, lr,weight_decay,  early_stopping, epochs, per_step, device_type, save_results, run_seed, null_is_concept\u001b[39m=\u001b[39;49mnull_is_concept, group_weighted\u001b[39m=\u001b[39;49mgroup_weighted, rafvogel_with_joint\u001b[39m=\u001b[39;49mrafvogel_with_joint, orthogonality_constraint\u001b[39m=\u001b[39;49morthogonality_constraint, baseline_adjust\u001b[39m=\u001b[39;49mbaseline_adjust, delta\u001b[39m=\u001b[39;49mdelta, eval_balanced\u001b[39m=\u001b[39;49meval_balanced,  rank_RLACE\u001b[39m=\u001b[39;49mrank_RLACE, use_standard_settings\u001b[39m=\u001b[39;49muse_standard_settings, concept_first\u001b[39m=\u001b[39;49mconcept_first, remove_concept\u001b[39m=\u001b[39;49mremove_concept)\n",
      "File \u001b[0;32m~/Documents/GitHub/JSE-replicate/JSE/generate_result_sim.py:226\u001b[0m, in \u001b[0;36mmain\u001b[0;34m(method, sims, dataset, dataset_setting, spurious_ratio_list, demean, pca, k_components, alpha, batch_size, solver, lr, weight_decay, early_stopping, epochs, per_step, device_type, save_results, run_seed, group_weighted, null_is_concept, rafvogel_with_joint, orthogonality_constraint, baseline_adjust, delta, eval_balanced, acc_comparison, rank_RLACE, use_standard_settings, concept_first, remove_concept)\u001b[0m\n\u001b[1;32m    224\u001b[0m \u001b[39melse\u001b[39;00m:\n\u001b[1;32m    225\u001b[0m     filename \u001b[39m=\u001b[39m \u001b[39m'\u001b[39m\u001b[39m{}\u001b[39;00m\u001b[39m_\u001b[39m\u001b[39m{}\u001b[39;00m\u001b[39m_seed_\u001b[39m\u001b[39m{}\u001b[39;00m\u001b[39m'\u001b[39m\u001b[39m.\u001b[39mformat( dataset, method, sim \u001b[39m+\u001b[39m run_seed)\n\u001b[0;32m--> 226\u001b[0m \u001b[39mwith\u001b[39;00m \u001b[39mopen\u001b[39;49m(\u001b[39m'\u001b[39;49m\u001b[39mresults/\u001b[39;49m\u001b[39m{}\u001b[39;49;00m\u001b[39m/\u001b[39;49m\u001b[39m{}\u001b[39;49;00m\u001b[39m.pkl\u001b[39;49m\u001b[39m'\u001b[39;49m\u001b[39m.\u001b[39;49mformat(folder_name, filename), \u001b[39m'\u001b[39;49m\u001b[39mrb\u001b[39;49m\u001b[39m'\u001b[39;49m) \u001b[39mas\u001b[39;00m f:\n\u001b[1;32m    227\u001b[0m     result_dict_for_sim \u001b[39m=\u001b[39m pickle\u001b[39m.\u001b[39mload(f)\n\u001b[1;32m    230\u001b[0m \u001b[39m# get the overall accuracy\u001b[39;00m\n",
      "\u001b[0;31mFileNotFoundError\u001b[0m: [Errno 2] No such file or directory: 'results/Toy_JSE_sims_1_run_seed_0_spurious_ratio_0/Toy_JSE_seed_0.pkl'"
     ]
    }
   ],
   "source": [
    "%run {terminal_call}"
   ]
  }
 ],
 "metadata": {
  "kernelspec": {
   "display_name": "JSE-replicate-code",
   "language": "python",
   "name": "python3"
  },
  "language_info": {
   "codemirror_mode": {
    "name": "ipython",
    "version": 3
   },
   "file_extension": ".py",
   "mimetype": "text/x-python",
   "name": "python",
   "nbconvert_exporter": "python",
   "pygments_lexer": "ipython3",
   "version": "3.11.5"
  },
  "orig_nbformat": 4
 },
 "nbformat": 4,
 "nbformat_minor": 2
}
